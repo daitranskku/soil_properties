{
 "cells": [
  {
   "cell_type": "markdown",
   "id": "tutorial-collectible",
   "metadata": {},
   "source": [
    "# Develop regression models"
   ]
  },
  {
   "cell_type": "code",
   "execution_count": 1,
   "id": "ba6dc45d-b735-4527-9f62-dd310ea40986",
   "metadata": {},
   "outputs": [],
   "source": [
    "import os\n",
    "\n",
    "import pandas as pd\n",
    "from collections import Counter\n",
    "import matplotlib.pyplot as plt\n",
    "import numpy as np\n",
    "\n",
    "from sklearn import preprocessing\n",
    "import tensorflow as tf\n",
    "import tensorflow_probability as tfp"
   ]
  },
  {
   "cell_type": "markdown",
   "id": "5d72c632-d1be-44a3-aee3-b7bfb7c41651",
   "metadata": {},
   "source": [
    "### Load data"
   ]
  },
  {
   "cell_type": "code",
   "execution_count": 2,
   "id": "athletic-settle",
   "metadata": {},
   "outputs": [],
   "source": [
    "DATA_DIR = '/home/daitran/Desktop/git/soil_properties/data'"
   ]
  },
  {
   "cell_type": "code",
   "execution_count": 3,
   "id": "interpreted-western",
   "metadata": {},
   "outputs": [],
   "source": [
    "ntb_data_path = os.path.join(DATA_DIR, 'NTB_black_data.csv')\n",
    "tb_data_path = os.path.join(DATA_DIR, 'TB_blue_data.csv')"
   ]
  },
  {
   "cell_type": "code",
   "execution_count": 4,
   "id": "amino-extraction",
   "metadata": {},
   "outputs": [],
   "source": [
    "ntb_data= pd.read_csv(ntb_data_path)\n",
    "tb_data = pd.read_csv(tb_data_path)"
   ]
  },
  {
   "cell_type": "markdown",
   "id": "meaningful-sponsorship",
   "metadata": {},
   "source": [
    "### Data pre-processing"
   ]
  },
  {
   "cell_type": "code",
   "execution_count": 5,
   "id": "imposed-response",
   "metadata": {},
   "outputs": [
    {
     "data": {
      "text/html": [
       "<div>\n",
       "<style scoped>\n",
       "    .dataframe tbody tr th:only-of-type {\n",
       "        vertical-align: middle;\n",
       "    }\n",
       "\n",
       "    .dataframe tbody tr th {\n",
       "        vertical-align: top;\n",
       "    }\n",
       "\n",
       "    .dataframe thead th {\n",
       "        text-align: right;\n",
       "    }\n",
       "</style>\n",
       "<table border=\"1\" class=\"dataframe\">\n",
       "  <thead>\n",
       "    <tr style=\"text-align: right;\">\n",
       "      <th></th>\n",
       "      <th>Name</th>\n",
       "      <th>X</th>\n",
       "      <th>Y</th>\n",
       "      <th>Elevation</th>\n",
       "      <th>Soi properties (main)</th>\n",
       "    </tr>\n",
       "  </thead>\n",
       "  <tbody>\n",
       "    <tr>\n",
       "      <th>0</th>\n",
       "      <td>NTB-1</td>\n",
       "      <td>549723.89</td>\n",
       "      <td>213802.88</td>\n",
       "      <td>28.5</td>\n",
       "      <td>reclaimed layer</td>\n",
       "    </tr>\n",
       "    <tr>\n",
       "      <th>1</th>\n",
       "      <td>NTB-1</td>\n",
       "      <td>549723.89</td>\n",
       "      <td>213802.88</td>\n",
       "      <td>26.0</td>\n",
       "      <td>sedimentary layer</td>\n",
       "    </tr>\n",
       "    <tr>\n",
       "      <th>2</th>\n",
       "      <td>NTB-1</td>\n",
       "      <td>549723.89</td>\n",
       "      <td>213802.88</td>\n",
       "      <td>21.5</td>\n",
       "      <td>weathered soil</td>\n",
       "    </tr>\n",
       "    <tr>\n",
       "      <th>3</th>\n",
       "      <td>NTB-1</td>\n",
       "      <td>549723.89</td>\n",
       "      <td>213802.88</td>\n",
       "      <td>7.7</td>\n",
       "      <td>weathered rock</td>\n",
       "    </tr>\n",
       "    <tr>\n",
       "      <th>4</th>\n",
       "      <td>NTB-1</td>\n",
       "      <td>549723.89</td>\n",
       "      <td>213802.88</td>\n",
       "      <td>-0.3</td>\n",
       "      <td>soft rock</td>\n",
       "    </tr>\n",
       "    <tr>\n",
       "      <th>...</th>\n",
       "      <td>...</td>\n",
       "      <td>...</td>\n",
       "      <td>...</td>\n",
       "      <td>...</td>\n",
       "      <td>...</td>\n",
       "    </tr>\n",
       "    <tr>\n",
       "      <th>91</th>\n",
       "      <td>NTB-12</td>\n",
       "      <td>549564.60</td>\n",
       "      <td>213804.70</td>\n",
       "      <td>14.5</td>\n",
       "      <td>weathered rock</td>\n",
       "    </tr>\n",
       "    <tr>\n",
       "      <th>92</th>\n",
       "      <td>NTB-12</td>\n",
       "      <td>549564.60</td>\n",
       "      <td>213804.70</td>\n",
       "      <td>7.5</td>\n",
       "      <td>moderate rock</td>\n",
       "    </tr>\n",
       "    <tr>\n",
       "      <th>93</th>\n",
       "      <td>NTB-12</td>\n",
       "      <td>549564.60</td>\n",
       "      <td>213804.70</td>\n",
       "      <td>-10.5</td>\n",
       "      <td>hard rock</td>\n",
       "    </tr>\n",
       "    <tr>\n",
       "      <th>94</th>\n",
       "      <td>NTB-12</td>\n",
       "      <td>549564.60</td>\n",
       "      <td>213804.70</td>\n",
       "      <td>-13.5</td>\n",
       "      <td>moderate rock</td>\n",
       "    </tr>\n",
       "    <tr>\n",
       "      <th>95</th>\n",
       "      <td>NTB-12</td>\n",
       "      <td>549564.60</td>\n",
       "      <td>213804.70</td>\n",
       "      <td>-16.5</td>\n",
       "      <td>hard rock</td>\n",
       "    </tr>\n",
       "  </tbody>\n",
       "</table>\n",
       "<p>96 rows × 5 columns</p>\n",
       "</div>"
      ],
      "text/plain": [
       "      Name          X          Y  Elevation Soi properties (main)\n",
       "0    NTB-1  549723.89  213802.88       28.5       reclaimed layer\n",
       "1    NTB-1  549723.89  213802.88       26.0     sedimentary layer\n",
       "2    NTB-1  549723.89  213802.88       21.5        weathered soil\n",
       "3    NTB-1  549723.89  213802.88        7.7        weathered rock\n",
       "4    NTB-1  549723.89  213802.88       -0.3             soft rock\n",
       "..     ...        ...        ...        ...                   ...\n",
       "91  NTB-12  549564.60  213804.70       14.5        weathered rock\n",
       "92  NTB-12  549564.60  213804.70        7.5         moderate rock\n",
       "93  NTB-12  549564.60  213804.70      -10.5             hard rock\n",
       "94  NTB-12  549564.60  213804.70      -13.5         moderate rock\n",
       "95  NTB-12  549564.60  213804.70      -16.5             hard rock\n",
       "\n",
       "[96 rows x 5 columns]"
      ]
     },
     "execution_count": 5,
     "metadata": {},
     "output_type": "execute_result"
    }
   ],
   "source": [
    "ntb_data"
   ]
  },
  {
   "cell_type": "code",
   "execution_count": 6,
   "id": "063bf21d-4321-4dd5-b782-31acd491f866",
   "metadata": {},
   "outputs": [
    {
     "data": {
      "text/html": [
       "<div>\n",
       "<style scoped>\n",
       "    .dataframe tbody tr th:only-of-type {\n",
       "        vertical-align: middle;\n",
       "    }\n",
       "\n",
       "    .dataframe tbody tr th {\n",
       "        vertical-align: top;\n",
       "    }\n",
       "\n",
       "    .dataframe thead th {\n",
       "        text-align: right;\n",
       "    }\n",
       "</style>\n",
       "<table border=\"1\" class=\"dataframe\">\n",
       "  <thead>\n",
       "    <tr style=\"text-align: right;\">\n",
       "      <th></th>\n",
       "      <th>Name</th>\n",
       "      <th>X</th>\n",
       "      <th>Y</th>\n",
       "      <th>Elevation</th>\n",
       "      <th>Soi properties (main)</th>\n",
       "    </tr>\n",
       "  </thead>\n",
       "  <tbody>\n",
       "    <tr>\n",
       "      <th>0</th>\n",
       "      <td>TB-1</td>\n",
       "      <td>549699.0411</td>\n",
       "      <td>213765.3279</td>\n",
       "      <td>128.60</td>\n",
       "      <td>reclaimed layer</td>\n",
       "    </tr>\n",
       "    <tr>\n",
       "      <th>1</th>\n",
       "      <td>TB-1</td>\n",
       "      <td>549699.0411</td>\n",
       "      <td>213765.3279</td>\n",
       "      <td>126.60</td>\n",
       "      <td>sedimentary layer</td>\n",
       "    </tr>\n",
       "    <tr>\n",
       "      <th>2</th>\n",
       "      <td>TB-1</td>\n",
       "      <td>549699.0411</td>\n",
       "      <td>213765.3279</td>\n",
       "      <td>117.60</td>\n",
       "      <td>weathered soil</td>\n",
       "    </tr>\n",
       "    <tr>\n",
       "      <th>3</th>\n",
       "      <td>TB-1</td>\n",
       "      <td>549699.0411</td>\n",
       "      <td>213765.3279</td>\n",
       "      <td>108.10</td>\n",
       "      <td>weathered rock</td>\n",
       "    </tr>\n",
       "    <tr>\n",
       "      <th>4</th>\n",
       "      <td>TB-1</td>\n",
       "      <td>549699.0411</td>\n",
       "      <td>213765.3279</td>\n",
       "      <td>94.60</td>\n",
       "      <td>soft rock</td>\n",
       "    </tr>\n",
       "    <tr>\n",
       "      <th>...</th>\n",
       "      <td>...</td>\n",
       "      <td>...</td>\n",
       "      <td>...</td>\n",
       "      <td>...</td>\n",
       "      <td>...</td>\n",
       "    </tr>\n",
       "    <tr>\n",
       "      <th>111</th>\n",
       "      <td>TB-22</td>\n",
       "      <td>550622.5600</td>\n",
       "      <td>213730.7000</td>\n",
       "      <td>134.49</td>\n",
       "      <td>reclaimed layer</td>\n",
       "    </tr>\n",
       "    <tr>\n",
       "      <th>112</th>\n",
       "      <td>TB-22</td>\n",
       "      <td>550622.5600</td>\n",
       "      <td>213730.7000</td>\n",
       "      <td>114.19</td>\n",
       "      <td>weathered soil</td>\n",
       "    </tr>\n",
       "    <tr>\n",
       "      <th>113</th>\n",
       "      <td>TB-22</td>\n",
       "      <td>550622.5600</td>\n",
       "      <td>213730.7000</td>\n",
       "      <td>104.19</td>\n",
       "      <td>weathered rock</td>\n",
       "    </tr>\n",
       "    <tr>\n",
       "      <th>114</th>\n",
       "      <td>TB-22</td>\n",
       "      <td>550622.5600</td>\n",
       "      <td>213730.7000</td>\n",
       "      <td>93.69</td>\n",
       "      <td>soft rock</td>\n",
       "    </tr>\n",
       "    <tr>\n",
       "      <th>115</th>\n",
       "      <td>TB-22</td>\n",
       "      <td>550622.5600</td>\n",
       "      <td>213730.7000</td>\n",
       "      <td>86.99</td>\n",
       "      <td>hard rock</td>\n",
       "    </tr>\n",
       "  </tbody>\n",
       "</table>\n",
       "<p>116 rows × 5 columns</p>\n",
       "</div>"
      ],
      "text/plain": [
       "      Name            X            Y  Elevation Soi properties (main)\n",
       "0     TB-1  549699.0411  213765.3279     128.60       reclaimed layer\n",
       "1     TB-1  549699.0411  213765.3279     126.60     sedimentary layer\n",
       "2     TB-1  549699.0411  213765.3279     117.60        weathered soil\n",
       "3     TB-1  549699.0411  213765.3279     108.10        weathered rock\n",
       "4     TB-1  549699.0411  213765.3279      94.60             soft rock\n",
       "..     ...          ...          ...        ...                   ...\n",
       "111  TB-22  550622.5600  213730.7000     134.49       reclaimed layer\n",
       "112  TB-22  550622.5600  213730.7000     114.19        weathered soil\n",
       "113  TB-22  550622.5600  213730.7000     104.19        weathered rock\n",
       "114  TB-22  550622.5600  213730.7000      93.69             soft rock\n",
       "115  TB-22  550622.5600  213730.7000      86.99             hard rock\n",
       "\n",
       "[116 rows x 5 columns]"
      ]
     },
     "execution_count": 6,
     "metadata": {},
     "output_type": "execute_result"
    }
   ],
   "source": [
    "tb_data"
   ]
  },
  {
   "cell_type": "code",
   "execution_count": 7,
   "id": "ed8dbf9f-ef8a-4639-9b08-e61d2fc8ce33",
   "metadata": {},
   "outputs": [],
   "source": [
    "ntb_names = ntb_data['Soi properties (main)']\n",
    "tb_names = tb_data['Soi properties (main)']"
   ]
  },
  {
   "cell_type": "code",
   "execution_count": 8,
   "id": "a1828878-672a-4362-824b-7698e416b3fa",
   "metadata": {},
   "outputs": [],
   "source": [
    "assign_num_list = {'topsoil layer': 0,\n",
    "                      'weathered rock': 1,\n",
    "                      'hard rock': 2,\n",
    "                      'soft rock': 3,\n",
    "                      'weathered soil': 4,\n",
    "                      'colluvial layer': 5,\n",
    "                      'moderate rock': 6,\n",
    "                      'sedimentary layer': 7,\n",
    "                      'reclaimed layer': 8}"
   ]
  },
  {
   "cell_type": "code",
   "execution_count": 9,
   "id": "47c57d5d-5caa-4d88-af76-5a8c3b0e7083",
   "metadata": {},
   "outputs": [],
   "source": [
    "ntb_target = ntb_names.replace(assign_num_list)\n",
    "tb_target = tb_names.replace(assign_num_list)"
   ]
  },
  {
   "cell_type": "code",
   "execution_count": 10,
   "id": "7c107eac-f1f1-4a4c-8481-9d7eb7b96b10",
   "metadata": {},
   "outputs": [],
   "source": [
    "ntb_data['Target'] = ntb_target\n",
    "tb_data['Target'] = tb_target"
   ]
  },
  {
   "cell_type": "code",
   "execution_count": 11,
   "id": "154d0707-10ab-4846-80b7-b3f774db08ae",
   "metadata": {},
   "outputs": [
    {
     "data": {
      "text/html": [
       "<div>\n",
       "<style scoped>\n",
       "    .dataframe tbody tr th:only-of-type {\n",
       "        vertical-align: middle;\n",
       "    }\n",
       "\n",
       "    .dataframe tbody tr th {\n",
       "        vertical-align: top;\n",
       "    }\n",
       "\n",
       "    .dataframe thead th {\n",
       "        text-align: right;\n",
       "    }\n",
       "</style>\n",
       "<table border=\"1\" class=\"dataframe\">\n",
       "  <thead>\n",
       "    <tr style=\"text-align: right;\">\n",
       "      <th></th>\n",
       "      <th>Name</th>\n",
       "      <th>X</th>\n",
       "      <th>Y</th>\n",
       "      <th>Elevation</th>\n",
       "      <th>Soi properties (main)</th>\n",
       "      <th>Target</th>\n",
       "    </tr>\n",
       "  </thead>\n",
       "  <tbody>\n",
       "    <tr>\n",
       "      <th>0</th>\n",
       "      <td>NTB-1</td>\n",
       "      <td>549723.89</td>\n",
       "      <td>213802.88</td>\n",
       "      <td>28.5</td>\n",
       "      <td>reclaimed layer</td>\n",
       "      <td>8</td>\n",
       "    </tr>\n",
       "    <tr>\n",
       "      <th>1</th>\n",
       "      <td>NTB-1</td>\n",
       "      <td>549723.89</td>\n",
       "      <td>213802.88</td>\n",
       "      <td>26.0</td>\n",
       "      <td>sedimentary layer</td>\n",
       "      <td>7</td>\n",
       "    </tr>\n",
       "    <tr>\n",
       "      <th>2</th>\n",
       "      <td>NTB-1</td>\n",
       "      <td>549723.89</td>\n",
       "      <td>213802.88</td>\n",
       "      <td>21.5</td>\n",
       "      <td>weathered soil</td>\n",
       "      <td>4</td>\n",
       "    </tr>\n",
       "    <tr>\n",
       "      <th>3</th>\n",
       "      <td>NTB-1</td>\n",
       "      <td>549723.89</td>\n",
       "      <td>213802.88</td>\n",
       "      <td>7.7</td>\n",
       "      <td>weathered rock</td>\n",
       "      <td>1</td>\n",
       "    </tr>\n",
       "    <tr>\n",
       "      <th>4</th>\n",
       "      <td>NTB-1</td>\n",
       "      <td>549723.89</td>\n",
       "      <td>213802.88</td>\n",
       "      <td>-0.3</td>\n",
       "      <td>soft rock</td>\n",
       "      <td>3</td>\n",
       "    </tr>\n",
       "    <tr>\n",
       "      <th>...</th>\n",
       "      <td>...</td>\n",
       "      <td>...</td>\n",
       "      <td>...</td>\n",
       "      <td>...</td>\n",
       "      <td>...</td>\n",
       "      <td>...</td>\n",
       "    </tr>\n",
       "    <tr>\n",
       "      <th>91</th>\n",
       "      <td>NTB-12</td>\n",
       "      <td>549564.60</td>\n",
       "      <td>213804.70</td>\n",
       "      <td>14.5</td>\n",
       "      <td>weathered rock</td>\n",
       "      <td>1</td>\n",
       "    </tr>\n",
       "    <tr>\n",
       "      <th>92</th>\n",
       "      <td>NTB-12</td>\n",
       "      <td>549564.60</td>\n",
       "      <td>213804.70</td>\n",
       "      <td>7.5</td>\n",
       "      <td>moderate rock</td>\n",
       "      <td>6</td>\n",
       "    </tr>\n",
       "    <tr>\n",
       "      <th>93</th>\n",
       "      <td>NTB-12</td>\n",
       "      <td>549564.60</td>\n",
       "      <td>213804.70</td>\n",
       "      <td>-10.5</td>\n",
       "      <td>hard rock</td>\n",
       "      <td>2</td>\n",
       "    </tr>\n",
       "    <tr>\n",
       "      <th>94</th>\n",
       "      <td>NTB-12</td>\n",
       "      <td>549564.60</td>\n",
       "      <td>213804.70</td>\n",
       "      <td>-13.5</td>\n",
       "      <td>moderate rock</td>\n",
       "      <td>6</td>\n",
       "    </tr>\n",
       "    <tr>\n",
       "      <th>95</th>\n",
       "      <td>NTB-12</td>\n",
       "      <td>549564.60</td>\n",
       "      <td>213804.70</td>\n",
       "      <td>-16.5</td>\n",
       "      <td>hard rock</td>\n",
       "      <td>2</td>\n",
       "    </tr>\n",
       "  </tbody>\n",
       "</table>\n",
       "<p>96 rows × 6 columns</p>\n",
       "</div>"
      ],
      "text/plain": [
       "      Name          X          Y  Elevation Soi properties (main)  Target\n",
       "0    NTB-1  549723.89  213802.88       28.5       reclaimed layer       8\n",
       "1    NTB-1  549723.89  213802.88       26.0     sedimentary layer       7\n",
       "2    NTB-1  549723.89  213802.88       21.5        weathered soil       4\n",
       "3    NTB-1  549723.89  213802.88        7.7        weathered rock       1\n",
       "4    NTB-1  549723.89  213802.88       -0.3             soft rock       3\n",
       "..     ...        ...        ...        ...                   ...     ...\n",
       "91  NTB-12  549564.60  213804.70       14.5        weathered rock       1\n",
       "92  NTB-12  549564.60  213804.70        7.5         moderate rock       6\n",
       "93  NTB-12  549564.60  213804.70      -10.5             hard rock       2\n",
       "94  NTB-12  549564.60  213804.70      -13.5         moderate rock       6\n",
       "95  NTB-12  549564.60  213804.70      -16.5             hard rock       2\n",
       "\n",
       "[96 rows x 6 columns]"
      ]
     },
     "execution_count": 11,
     "metadata": {},
     "output_type": "execute_result"
    }
   ],
   "source": [
    "ntb_data"
   ]
  },
  {
   "cell_type": "code",
   "execution_count": 12,
   "id": "e7680e75-2259-4c3a-9a88-8d8f3e81ed3c",
   "metadata": {},
   "outputs": [
    {
     "data": {
      "text/html": [
       "<div>\n",
       "<style scoped>\n",
       "    .dataframe tbody tr th:only-of-type {\n",
       "        vertical-align: middle;\n",
       "    }\n",
       "\n",
       "    .dataframe tbody tr th {\n",
       "        vertical-align: top;\n",
       "    }\n",
       "\n",
       "    .dataframe thead th {\n",
       "        text-align: right;\n",
       "    }\n",
       "</style>\n",
       "<table border=\"1\" class=\"dataframe\">\n",
       "  <thead>\n",
       "    <tr style=\"text-align: right;\">\n",
       "      <th></th>\n",
       "      <th>Name</th>\n",
       "      <th>X</th>\n",
       "      <th>Y</th>\n",
       "      <th>Elevation</th>\n",
       "      <th>Soi properties (main)</th>\n",
       "      <th>Target</th>\n",
       "    </tr>\n",
       "  </thead>\n",
       "  <tbody>\n",
       "    <tr>\n",
       "      <th>0</th>\n",
       "      <td>TB-1</td>\n",
       "      <td>549699.0411</td>\n",
       "      <td>213765.3279</td>\n",
       "      <td>128.60</td>\n",
       "      <td>reclaimed layer</td>\n",
       "      <td>8</td>\n",
       "    </tr>\n",
       "    <tr>\n",
       "      <th>1</th>\n",
       "      <td>TB-1</td>\n",
       "      <td>549699.0411</td>\n",
       "      <td>213765.3279</td>\n",
       "      <td>126.60</td>\n",
       "      <td>sedimentary layer</td>\n",
       "      <td>7</td>\n",
       "    </tr>\n",
       "    <tr>\n",
       "      <th>2</th>\n",
       "      <td>TB-1</td>\n",
       "      <td>549699.0411</td>\n",
       "      <td>213765.3279</td>\n",
       "      <td>117.60</td>\n",
       "      <td>weathered soil</td>\n",
       "      <td>4</td>\n",
       "    </tr>\n",
       "    <tr>\n",
       "      <th>3</th>\n",
       "      <td>TB-1</td>\n",
       "      <td>549699.0411</td>\n",
       "      <td>213765.3279</td>\n",
       "      <td>108.10</td>\n",
       "      <td>weathered rock</td>\n",
       "      <td>1</td>\n",
       "    </tr>\n",
       "    <tr>\n",
       "      <th>4</th>\n",
       "      <td>TB-1</td>\n",
       "      <td>549699.0411</td>\n",
       "      <td>213765.3279</td>\n",
       "      <td>94.60</td>\n",
       "      <td>soft rock</td>\n",
       "      <td>3</td>\n",
       "    </tr>\n",
       "    <tr>\n",
       "      <th>...</th>\n",
       "      <td>...</td>\n",
       "      <td>...</td>\n",
       "      <td>...</td>\n",
       "      <td>...</td>\n",
       "      <td>...</td>\n",
       "      <td>...</td>\n",
       "    </tr>\n",
       "    <tr>\n",
       "      <th>111</th>\n",
       "      <td>TB-22</td>\n",
       "      <td>550622.5600</td>\n",
       "      <td>213730.7000</td>\n",
       "      <td>134.49</td>\n",
       "      <td>reclaimed layer</td>\n",
       "      <td>8</td>\n",
       "    </tr>\n",
       "    <tr>\n",
       "      <th>112</th>\n",
       "      <td>TB-22</td>\n",
       "      <td>550622.5600</td>\n",
       "      <td>213730.7000</td>\n",
       "      <td>114.19</td>\n",
       "      <td>weathered soil</td>\n",
       "      <td>4</td>\n",
       "    </tr>\n",
       "    <tr>\n",
       "      <th>113</th>\n",
       "      <td>TB-22</td>\n",
       "      <td>550622.5600</td>\n",
       "      <td>213730.7000</td>\n",
       "      <td>104.19</td>\n",
       "      <td>weathered rock</td>\n",
       "      <td>1</td>\n",
       "    </tr>\n",
       "    <tr>\n",
       "      <th>114</th>\n",
       "      <td>TB-22</td>\n",
       "      <td>550622.5600</td>\n",
       "      <td>213730.7000</td>\n",
       "      <td>93.69</td>\n",
       "      <td>soft rock</td>\n",
       "      <td>3</td>\n",
       "    </tr>\n",
       "    <tr>\n",
       "      <th>115</th>\n",
       "      <td>TB-22</td>\n",
       "      <td>550622.5600</td>\n",
       "      <td>213730.7000</td>\n",
       "      <td>86.99</td>\n",
       "      <td>hard rock</td>\n",
       "      <td>2</td>\n",
       "    </tr>\n",
       "  </tbody>\n",
       "</table>\n",
       "<p>116 rows × 6 columns</p>\n",
       "</div>"
      ],
      "text/plain": [
       "      Name            X            Y  Elevation Soi properties (main)  Target\n",
       "0     TB-1  549699.0411  213765.3279     128.60       reclaimed layer       8\n",
       "1     TB-1  549699.0411  213765.3279     126.60     sedimentary layer       7\n",
       "2     TB-1  549699.0411  213765.3279     117.60        weathered soil       4\n",
       "3     TB-1  549699.0411  213765.3279     108.10        weathered rock       1\n",
       "4     TB-1  549699.0411  213765.3279      94.60             soft rock       3\n",
       "..     ...          ...          ...        ...                   ...     ...\n",
       "111  TB-22  550622.5600  213730.7000     134.49       reclaimed layer       8\n",
       "112  TB-22  550622.5600  213730.7000     114.19        weathered soil       4\n",
       "113  TB-22  550622.5600  213730.7000     104.19        weathered rock       1\n",
       "114  TB-22  550622.5600  213730.7000      93.69             soft rock       3\n",
       "115  TB-22  550622.5600  213730.7000      86.99             hard rock       2\n",
       "\n",
       "[116 rows x 6 columns]"
      ]
     },
     "execution_count": 12,
     "metadata": {},
     "output_type": "execute_result"
    }
   ],
   "source": [
    "tb_data"
   ]
  },
  {
   "cell_type": "code",
   "execution_count": 13,
   "id": "3bf79055-8376-4c12-ae77-3146a7c20397",
   "metadata": {},
   "outputs": [],
   "source": [
    "X_train_ntb = ntb_data[['X','Y','Elevation']].to_numpy()\n",
    "y_train_ntb = ntb_data['Target'].to_numpy()\n",
    "\n",
    "X_train_tb = tb_data[['X','Y','Elevation']].to_numpy()\n",
    "y_train_tb = tb_data['Target'].to_numpy()"
   ]
  },
  {
   "cell_type": "code",
   "execution_count": 14,
   "id": "f3ec97b5-6f57-4167-bb23-cec006263906",
   "metadata": {},
   "outputs": [],
   "source": [
    "# https://scikit-learn.org/stable/modules/preprocessing.html\n",
    "# Minmax scaler\n",
    "# Standart Scaler\n",
    "# \n",
    "\n",
    "normalizer = preprocessing.MinMaxScaler()\n",
    "\n",
    "normalized_X_train_ntb = normalizer.fit_transform(X_train_ntb)\n",
    "normalized_X_train_tb = normalizer.fit_transform(X_train_tb)\n",
    "# normalized_train_X"
   ]
  },
  {
   "cell_type": "code",
   "execution_count": 57,
   "id": "b592f20a-5d0b-4e29-8200-303edbdb2766",
   "metadata": {},
   "outputs": [
    {
     "data": {
      "image/png": "[encoded data removed]",
      "text/plain": [
       "<Figure size 432x288 with 1 Axes>"
      ]
     },
     "metadata": {
      "needs_background": "light"
     },
     "output_type": "display_data"
    }
   ],
   "source": [
    "plt.hist(y_train_ntb)\n",
    "plt.show()"
   ]
  },
  {
   "cell_type": "markdown",
   "id": "9c07bbd9-2d5e-4513-bd3e-3b39758093f2",
   "metadata": {},
   "source": [
    "## Regression model with NTB dataset"
   ]
  },
  {
   "cell_type": "code",
   "execution_count": 16,
   "id": "673dc6b4-0fe7-4c0e-b382-51d58bc45c0c",
   "metadata": {},
   "outputs": [],
   "source": [
    "from tensorflow.keras.models import Sequential\n",
    "from tensorflow.keras.layers import Dense\n",
    "from tensorflow.keras.optimizers import RMSprop"
   ]
  },
  {
   "cell_type": "markdown",
   "id": "1bbcef5f-3f9e-4beb-b24e-eb44ddccac33",
   "metadata": {},
   "source": [
    "###  Shallow ANN"
   ]
  },
  {
   "cell_type": "code",
   "execution_count": 58,
   "id": "26210899-94fa-4fef-9dc7-cd7fa10e2fcd",
   "metadata": {},
   "outputs": [],
   "source": [
    "model = Sequential()\n",
    "model.add(Dense(10, input_dim=3, kernel_initializer='normal', activation='relu'))\n",
    "model.add(Dense(10, input_dim=3, kernel_initializer='normal', activation='relu'))\n",
    "model.add(Dense(1, kernel_initializer='normal', activation='linear'))"
   ]
  },
  {
   "cell_type": "code",
   "execution_count": 59,
   "id": "bc995859-208b-44b1-b89c-81c9a5a1e70f",
   "metadata": {},
   "outputs": [
    {
     "name": "stdout",
     "output_type": "stream",
     "text": [
      "Model: \"sequential_3\"\n",
      "_________________________________________________________________\n",
      "Layer (type)                 Output Shape              Param #   \n",
      "=================================================================\n",
      "dense_6 (Dense)              (None, 10)                40        \n",
      "_________________________________________________________________\n",
      "dense_7 (Dense)              (None, 10)                110       \n",
      "_________________________________________________________________\n",
      "dense_8 (Dense)              (None, 1)                 11        \n",
      "=================================================================\n",
      "Total params: 161\n",
      "Trainable params: 161\n",
      "Non-trainable params: 0\n",
      "_________________________________________________________________\n"
     ]
    }
   ],
   "source": [
    "model.summary()"
   ]
  },
  {
   "cell_type": "code",
   "execution_count": 60,
   "id": "f8b1e5cc-1b56-4c40-b9eb-01ede779046e",
   "metadata": {},
   "outputs": [],
   "source": [
    "model.compile(loss='mean_squared_error', optimizer='adam')"
   ]
  },
  {
   "cell_type": "code",
   "execution_count": 61,
   "id": "80f4abea-94ec-44df-9591-066143848031",
   "metadata": {},
   "outputs": [
    {
     "data": {
      "text/plain": [
       "<tensorflow.python.keras.callbacks.History at 0x7f7ac4212b50>"
      ]
     },
     "execution_count": 61,
     "metadata": {},
     "output_type": "execute_result"
    }
   ],
   "source": [
    "model.fit(normalized_X_train_ntb, y_train_ntb, epochs = 1000, verbose=0)"
   ]
  },
  {
   "cell_type": "code",
   "execution_count": 62,
   "id": "360a005e-3061-4009-af3a-30826b513021",
   "metadata": {},
   "outputs": [
    {
     "name": "stdout",
     "output_type": "stream",
     "text": [
      "4/4 [==============================] - 0s 1ms/step - loss: 5.2436\n"
     ]
    },
    {
     "data": {
      "text/plain": [
       "5.243572235107422"
      ]
     },
     "execution_count": 62,
     "metadata": {},
     "output_type": "execute_result"
    }
   ],
   "source": [
    "model.evaluate(normalized_X_train_tb, y_train_tb)"
   ]
  },
  {
   "cell_type": "code",
   "execution_count": 63,
   "id": "c57d7181-5621-49dd-8606-d0d08720ba44",
   "metadata": {},
   "outputs": [
    {
     "data": {
      "text/plain": [
       "array([0.14558671, 0.35072645, 0.75531434])"
      ]
     },
     "execution_count": 63,
     "metadata": {},
     "output_type": "execute_result"
    }
   ],
   "source": [
    "normalized_X_train_ntb[0]"
   ]
  },
  {
   "cell_type": "code",
   "execution_count": 64,
   "id": "c662eb09-4de6-456a-a0fd-8d9f88c4f3e6",
   "metadata": {},
   "outputs": [
    {
     "data": {
      "text/plain": [
       "array([[5.171805 ],\n",
       "       [5.0563927],\n",
       "       [4.848649 ],\n",
       "       [4.2115703],\n",
       "       [3.8422487],\n",
       "       [3.5652578],\n",
       "       [3.4267623],\n",
       "       [3.1497712],\n",
       "       [3.0482078],\n",
       "       [5.1353583]], dtype=float32)"
      ]
     },
     "execution_count": 64,
     "metadata": {},
     "output_type": "execute_result"
    }
   ],
   "source": [
    "model.predict(normalized_X_train_ntb[0:10])"
   ]
  },
  {
   "cell_type": "code",
   "execution_count": 65,
   "id": "6bd8b032-4cfb-464a-b960-7a24935e1010",
   "metadata": {},
   "outputs": [
    {
     "data": {
      "text/plain": [
       "array([8, 7, 4, 1, 3, 6, 3, 6, 3, 8])"
      ]
     },
     "execution_count": 65,
     "metadata": {},
     "output_type": "execute_result"
    }
   ],
   "source": [
    "y_train_ntb[0:10]"
   ]
  },
  {
   "cell_type": "code",
   "execution_count": null,
   "id": "21370fd8-3586-43bd-900f-d02c47630d94",
   "metadata": {},
   "outputs": [],
   "source": []
  },
  {
   "cell_type": "code",
   "execution_count": null,
   "id": "aa43ac2e-8c9f-4283-9b32-003cdecc033b",
   "metadata": {},
   "outputs": [],
   "source": []
  }
 ],
 "metadata": {
  "kernelspec": {
   "display_name": "Python 3",
   "language": "python",
   "name": "python3"
  },
  "language_info": {
   "codemirror_mode": {
    "name": "ipython",
    "version": 3
   },
   "file_extension": ".py",
   "mimetype": "text/x-python",
   "name": "python",
   "nbconvert_exporter": "python",
   "pygments_lexer": "ipython3",
   "version": "3.7.10"
  }
 },
 "nbformat": 4,
 "nbformat_minor": 5
}
