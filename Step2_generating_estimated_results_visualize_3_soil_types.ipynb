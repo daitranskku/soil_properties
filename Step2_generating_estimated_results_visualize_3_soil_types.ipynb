{
 "cells": [
  {
   "cell_type": "markdown",
   "id": "1a12e73f-ea7d-4e36-8308-670bbc5cf7d4",
   "metadata": {},
   "source": [
    "# **Estimating Soil Propeties 3D Models Using Pretrained Weights**"
   ]
  },
  {
   "cell_type": "code",
   "execution_count": 1,
   "id": "f387e1e7-1336-4bc5-a560-cab3844ed9fe",
   "metadata": {},
   "outputs": [],
   "source": [
    "import os\n",
    "\n",
    "import pandas as pd\n",
    "from collections import Counter\n",
    "import matplotlib.pyplot as plt\n",
    "import seaborn as sns\n",
    "import numpy as np\n",
    "from tqdm import tqdm\n",
    "\n",
    "from sklearn import preprocessing\n",
    "import tensorflow as tf\n",
    "\n",
    "from tensorflow.keras.models import Sequential\n",
    "from tensorflow.keras.layers import Dense\n",
    "from tensorflow.keras.optimizers import RMSprop\n",
    "\n",
    "from tensorflow.keras.callbacks import ModelCheckpoint, EarlyStopping\n",
    "\n",
    "from numpy import ones,vstack\n",
    "from numpy.linalg import lstsq"
   ]
  },
  {
   "cell_type": "code",
   "execution_count": 2,
   "id": "66fa1605-6684-4c65-8fe1-eba7d9f27c21",
   "metadata": {},
   "outputs": [],
   "source": [
    "DATA_DIR = '/home/daitran/Desktop/git/soil_properties/data'\n",
    "\n",
    "ntb_data_path = os.path.join(DATA_DIR, 'NTB_black_data_remove_class_5.csv')\n",
    "tb_data_path = os.path.join(DATA_DIR, '210507 TB (Blue) data_(PDF and CAD).csv')\n",
    "\n",
    "ntb_data= pd.read_csv(ntb_data_path)\n",
    "tb_data = pd.read_csv(tb_data_path)"
   ]
  },
  {
   "cell_type": "code",
   "execution_count": 3,
   "id": "0285c067-55c7-408f-9c06-0993403e912e",
   "metadata": {},
   "outputs": [],
   "source": [
    "remove_piles = ['TB-21', 'TB-22']\n",
    "\n",
    "for remove_pile in remove_piles: \n",
    "    indexNames = tb_data[(tb_data['Name'] == remove_pile)].index\n",
    "    tb_data.drop(indexNames , inplace=True)\n"
   ]
  },
  {
   "cell_type": "markdown",
   "id": "2c7c6028-456d-49d3-8582-75a4f6c96124",
   "metadata": {},
   "source": [
    "### **Estimated Area**"
   ]
  },
  {
   "cell_type": "markdown",
   "id": "5338d7cb-60e3-445a-ae28-d3726c098251",
   "metadata": {},
   "source": [
    "### Data pre-processing"
   ]
  },
  {
   "cell_type": "code",
   "execution_count": 4,
   "id": "c9bc6376-1471-4f22-894e-0e56161c1a41",
   "metadata": {},
   "outputs": [],
   "source": [
    "# Specific soil types\n",
    "assign_num_list = {\n",
    "                    'topsoil layer': 7,\n",
    "                    'reclaimed layer': 6,\n",
    "                    'sedimentary layer': 5,\n",
    "                    'weathered soil': 4,\n",
    "                    'weathered rock': 3,\n",
    "                    'soft rock': 2,\n",
    "                    'moderate rock': 1,\n",
    "                     'hard rock': 0,\n",
    "                  }"
   ]
  },
  {
   "cell_type": "code",
   "execution_count": 5,
   "id": "6cae7514-bede-429e-abcc-3e11359500cc",
   "metadata": {},
   "outputs": [],
   "source": [
    "ntb_names = ntb_data['Soi properties (main)']\n",
    "tb_names = tb_data['Soi properties (main)']\n",
    "\n",
    "ntb_target = ntb_names.replace(assign_num_list)\n",
    "tb_target = tb_names.replace(assign_num_list)\n",
    "\n",
    "ntb_data['Target'] = ntb_target\n",
    "tb_data['Target'] = tb_target\n",
    "\n",
    "X_train_ntb = ntb_data[['X','Y','Elevation']].to_numpy()\n",
    "y_train_ntb = ntb_data['Target'].to_numpy()\n",
    "\n",
    "X_train_tb = tb_data[['X1(CAD)','Y1(CAD)','Elevation']].to_numpy()\n",
    "y_train_tb = tb_data['Target'].to_numpy()\n",
    "\n",
    "# merge NTB and TB\n",
    "X_train_merged_ntb_tb = np.concatenate((X_train_ntb, X_train_tb), axis=0)\n",
    "y_train_merged_ntb_tb = np.concatenate((y_train_ntb, y_train_tb), axis=0)\n",
    "\n",
    "# https://scikit-learn.org/stable/modules/preprocessing.html\n",
    "normalizer = preprocessing.MinMaxScaler()\n",
    "\n",
    "normalizer.fit(X_train_merged_ntb_tb)\n",
    "\n",
    "\n",
    "normalized_X_train_ntb = normalizer.transform(X_train_ntb)\n",
    "normalized_X_train_tb = normalizer.transform(X_train_tb)\n",
    "normalized_X_merged_ntb_tb = np.concatenate((normalized_X_train_ntb, normalized_X_train_tb), axis=0)\n",
    "\n",
    "\n",
    "\n",
    "# ## Unnormalize\n",
    "# normalized_X_train_ntb = X_train_ntb\n",
    "# normalized_X_train_tb = X_train_tb\n",
    "\n",
    "# X_train_merged_ntb_tb = np.concatenate((X_train_ntb, X_train_tb), axis=0)\n",
    "# normalized_X_merged_ntb_tb = X_train_merged_ntb_tb\n",
    "# y_train_merged_ntb_tb = np.concatenate((y_train_ntb, y_train_tb), axis=0)"
   ]
  },
  {
   "cell_type": "code",
   "execution_count": 6,
   "id": "0338df66-44c5-4a67-872b-331248a8c14c",
   "metadata": {},
   "outputs": [],
   "source": [
    "max_x = 550978\n",
    "max_y = 213895\n",
    "\n",
    "min_x = 549653\n",
    "min_y = 213759"
   ]
  },
  {
   "cell_type": "code",
   "execution_count": 7,
   "id": "e21706ab-1baa-49b6-b23c-024b1762ab4d",
   "metadata": {},
   "outputs": [],
   "source": [
    "max_z = int(np.max(X_train_merged_ntb_tb[:,2]))\n",
    "min_z = int(np.min(X_train_merged_ntb_tb[:,2]))"
   ]
  },
  {
   "cell_type": "code",
   "execution_count": 8,
   "id": "3eb14335-f314-4628-be7b-2c4a9b068d46",
   "metadata": {},
   "outputs": [],
   "source": [
    "# Full test site\n",
    "X_TEST_START = min_x\n",
    "X_TEST_STOP = max_x\n",
    "X_STEP = 3\n",
    "\n",
    "Y_TEST_START = min_y\n",
    "Y_TEST_STOP = max_y\n",
    "Y_STEP = 3\n",
    "\n",
    "ELEVATION_START = min_z\n",
    "ELEVATION_STOP = max_z # change maximum elevation\n",
    "ELEVATION_STEP = 2\n",
    "\n",
    "# model_type = 'probabilistic'\n",
    "model_type = 'deterministic'"
   ]
  },
  {
   "cell_type": "code",
   "execution_count": 9,
   "id": "11010ccc-5c63-4fd2-b8fc-855a11cca1e8",
   "metadata": {},
   "outputs": [
    {
     "data": {
      "text/plain": [
       "78"
      ]
     },
     "execution_count": 9,
     "metadata": {},
     "output_type": "execute_result"
    }
   ],
   "source": [
    "min_z"
   ]
  },
  {
   "cell_type": "code",
   "execution_count": 10,
   "id": "7bafe8dc-29fe-4405-bf1e-028b01190fe3",
   "metadata": {},
   "outputs": [
    {
     "data": {
      "text/plain": [
       "144"
      ]
     },
     "execution_count": 10,
     "metadata": {},
     "output_type": "execute_result"
    }
   ],
   "source": [
    "max_z"
   ]
  },
  {
   "cell_type": "markdown",
   "id": "791950ae-a472-4727-b471-127e2747bee8",
   "metadata": {},
   "source": [
    "# Load Pretrained Weights - *Check regression_models.ipynb file for model architecture*"
   ]
  },
  {
   "cell_type": "code",
   "execution_count": 11,
   "id": "c9baad9d-3feb-4f9a-afcb-3f490929e853",
   "metadata": {},
   "outputs": [],
   "source": [
    "EPOCHS = 1000\n",
    "BATCH_SIZES = 16\n",
    "LR = 0.001"
   ]
  },
  {
   "cell_type": "code",
   "execution_count": 12,
   "id": "156e7b4d-7fdd-4993-b01c-902a57574e09",
   "metadata": {},
   "outputs": [],
   "source": [
    "def create_model(dim):\n",
    "    model = Sequential([\n",
    "        Dense(128, activation = 'relu', kernel_initializer='he_normal', input_dim = dim),\n",
    "        Dense(64, activation = 'relu', kernel_initializer='he_normal'),\n",
    "        Dense(32, activation = 'relu', kernel_initializer='he_normal'),\n",
    "        Dense(16, activation = 'relu', kernel_initializer='he_normal'),\n",
    "        Dense(8, activation = 'relu', kernel_initializer='he_normal'),\n",
    "        Dense(1, kernel_initializer='he_normal', activation='linear')\n",
    "    ])\n",
    "    \n",
    "    model.compile(loss='mean_squared_error',\n",
    "              optimizer=tf.optimizers.Adam(learning_rate=LR))\n",
    "    \n",
    "    model.summary()\n",
    "    return model"
   ]
  },
  {
   "cell_type": "markdown",
   "id": "d8fc7730-0ff6-4ba3-bd73-a9d93dccb91a",
   "metadata": {},
   "source": [
    "### Get best weights from deterministic or probabilistic model"
   ]
  },
  {
   "cell_type": "code",
   "execution_count": 13,
   "id": "77adda78-0a43-4b74-b821-895ddb2e48b0",
   "metadata": {},
   "outputs": [],
   "source": [
    "def get_model_best_epoch(model, model_type, train_data = 'ntb'):\n",
    "    current_dir = os.getcwd()\n",
    "    if model_type:\n",
    "        checkpoint_path = current_dir + \"/checkpoints_best_only_{}_{}/checkpoint\".format(model_type, train_data)\n",
    "        print(checkpoint_path)\n",
    "    model.load_weights(checkpoint_path)\n",
    "    \n",
    "    return model"
   ]
  },
  {
   "cell_type": "markdown",
   "id": "1c2baed1-9bd8-43c2-bad0-ca971136d5cc",
   "metadata": {},
   "source": [
    "# Create line equation "
   ]
  },
  {
   "cell_type": "code",
   "execution_count": 14,
   "id": "edf3a49f-d2ab-4562-9caa-f9e2cfb12697",
   "metadata": {},
   "outputs": [],
   "source": [
    "# 900\n",
    "X_900_1 = 549660\n",
    "Y_900_1 = 213759\n",
    "\n",
    "X_900_2 = 549653\n",
    "Y_900_2 = 213828\n",
    "\n",
    "# 1220\n",
    "X_1220_1 = 550978\n",
    "Y_1220_1 = 213825\n",
    "\n",
    "X_1220_2 = 550974\n",
    "Y_1220_2 = 213895"
   ]
  },
  {
   "cell_type": "code",
   "execution_count": 15,
   "id": "a3663d6b-0f07-4efd-a247-43ac705560bf",
   "metadata": {},
   "outputs": [],
   "source": [
    "tb_1_x = tb_data.loc[tb_data['Name']=='TB-1']['X'][0]\n",
    "tb_1_y = tb_data.loc[tb_data['Name']=='TB-1']['Y'][0]"
   ]
  },
  {
   "cell_type": "code",
   "execution_count": 16,
   "id": "18346616-792f-47c2-a59b-9064dd6514fa",
   "metadata": {},
   "outputs": [],
   "source": [
    "tb_20_x = tb_data.loc[tb_data['Name']=='TB-20']['X'][100]\n",
    "tb_20_y = tb_data.loc[tb_data['Name']=='TB-20']['Y'][100]"
   ]
  },
  {
   "cell_type": "code",
   "execution_count": 17,
   "id": "848d9515-67b5-4f4e-9fac-a11e6ea68346",
   "metadata": {},
   "outputs": [
    {
     "data": {
      "text/plain": [
       "66"
      ]
     },
     "execution_count": 17,
     "metadata": {},
     "output_type": "execute_result"
    }
   ],
   "source": [
    "Y_1220_1 - Y_900_1"
   ]
  },
  {
   "cell_type": "code",
   "execution_count": 18,
   "id": "33535b67-24ad-4ecf-a446-a487bccbaa45",
   "metadata": {},
   "outputs": [
    {
     "name": "stderr",
     "output_type": "stream",
     "text": [
      "/home/daitran/miniconda3/envs/probability/lib/python3.7/site-packages/ipykernel_launcher.py:8: FutureWarning: `rcond` parameter will change to the default of machine precision times ``max(M, N)`` where M and N are the input matrix dimensions.\n",
      "To use the future default and silence this warning we advise to pass `rcond=None`, to keep using the old, explicitly pass `rcond=-1`.\n",
      "  \n",
      "100%|██████████| 440/440 [00:00<00:00, 1530.32it/s]\n",
      "100%|██████████| 440/440 [00:00<00:00, 1720.19it/s]\n",
      "100%|██████████| 440/440 [00:00<00:00, 1611.64it/s]\n",
      "100%|██████████| 440/440 [00:00<00:00, 1822.41it/s]\n",
      "100%|██████████| 440/440 [00:00<00:00, 1720.73it/s]\n",
      "100%|██████████| 440/440 [00:00<00:00, 1820.52it/s]\n",
      "100%|██████████| 440/440 [00:00<00:00, 1832.38it/s]\n",
      "100%|██████████| 440/440 [00:00<00:00, 1893.56it/s]\n",
      "100%|██████████| 440/440 [00:00<00:00, 1741.82it/s]\n",
      "100%|██████████| 440/440 [00:00<00:00, 1715.19it/s]\n",
      "100%|██████████| 440/440 [00:00<00:00, 1311.11it/s]\n",
      "100%|██████████| 440/440 [00:00<00:00, 1717.53it/s]\n",
      "100%|██████████| 440/440 [00:00<00:00, 1868.19it/s]\n",
      "100%|██████████| 440/440 [00:00<00:00, 1817.50it/s]\n",
      "100%|██████████| 440/440 [00:00<00:00, 1701.76it/s]\n",
      "100%|██████████| 440/440 [00:00<00:00, 1527.88it/s]\n",
      "100%|██████████| 440/440 [00:00<00:00, 1508.09it/s]\n",
      "100%|██████████| 440/440 [00:00<00:00, 1831.79it/s]\n",
      "100%|██████████| 440/440 [00:00<00:00, 1457.80it/s]\n",
      "100%|██████████| 440/440 [00:00<00:00, 1690.14it/s]\n"
     ]
    }
   ],
   "source": [
    "def generate_road_points():\n",
    "    full_test_area = np.empty((0,3), int)\n",
    "#     for y_step in tqdm(range(Y_900_1, Y_900_2, 60)):\n",
    "    for k in range(5,65, Y_STEP):\n",
    "        points = [(X_900_1,Y_900_1 + k ),(X_1220_1,Y_1220_1+ k)]\n",
    "        x_coords, y_coords = zip(*points)\n",
    "        A = vstack([x_coords,ones(len(x_coords))]).T\n",
    "        m, c = lstsq(A, y_coords)[0]\n",
    "    #         print(\"Line Solution is y = {m}x + {c}\".format(m=m,c=c))\n",
    "\n",
    "        ## Generate points\n",
    "        cross_sectional_point = np.empty((0,3), int)\n",
    "        for x_in_line in tqdm(range(int(X_900_1), int(X_1220_1), X_STEP)):\n",
    "            y_in_line = m*x_in_line + c\n",
    "            for elevation in (range(ELEVATION_START, ELEVATION_STOP, ELEVATION_STEP)):\n",
    "                row = np.array([])\n",
    "                row = np.array([x_in_line,y_in_line,elevation])\n",
    "                row = np.expand_dims(row,axis=0)\n",
    "                cross_sectional_point = np.append(cross_sectional_point, row, axis = 0)\n",
    "        full_test_area = np.append(full_test_area, cross_sectional_point, axis = 0)\n",
    "\n",
    "    return full_test_area\n",
    "full_test_area = generate_road_points()"
   ]
  },
  {
   "cell_type": "code",
   "execution_count": 19,
   "id": "38f05f15-eb32-43c5-8ccc-2476725bbfd9",
   "metadata": {},
   "outputs": [
    {
     "data": {
      "text/plain": [
       "(290400, 3)"
      ]
     },
     "execution_count": 19,
     "metadata": {},
     "output_type": "execute_result"
    }
   ],
   "source": [
    "full_test_area.shape"
   ]
  },
  {
   "cell_type": "code",
   "execution_count": 20,
   "id": "bd306bdf-3cfa-4013-b2bb-f75152c1b44d",
   "metadata": {},
   "outputs": [],
   "source": [
    "normalized_cross_sectional_point = normalizer.transform(full_test_area)"
   ]
  },
  {
   "cell_type": "markdown",
   "id": "5f101cd2-10e7-460a-8784-34344c1d8775",
   "metadata": {},
   "source": [
    "# Create Estimated Data Points"
   ]
  },
  {
   "cell_type": "code",
   "execution_count": 21,
   "id": "86d9626a-fc06-4907-a47a-41b598fcf0bc",
   "metadata": {},
   "outputs": [],
   "source": [
    "# def test_area_generate():\n",
    "#     test_area = np.empty((0,3), int)\n",
    "    \n",
    "#     for x in tqdm((range(X_TEST_START, X_TEST_STOP,X_STEP))):\n",
    "#         for y in (range(Y_TEST_START, Y_TEST_STOP,Y_STEP)):\n",
    "#             for elevation in (range(ELEVATION_START, ELEVATION_STOP, ELEVATION_STEP)):\n",
    "#                 row = np.array([])\n",
    "#                 row = np.array([x,y,elevation])\n",
    "#                 row = np.expand_dims(row,axis=0)\n",
    "#     #             print(row.shape)\n",
    "#                 test_area = np.append(test_area, row, axis = 0)\n",
    "# #             print('Locationx: {}, y: {}, elevation: {}'.format(x,y,elevation))\n",
    "#     return test_area"
   ]
  },
  {
   "cell_type": "code",
   "execution_count": 22,
   "id": "7fc614af-2b90-483f-ba8c-04b1b414fd50",
   "metadata": {},
   "outputs": [],
   "source": [
    "# X_test = test_area_generate()"
   ]
  },
  {
   "cell_type": "code",
   "execution_count": 23,
   "id": "b57bebb9-bcce-4323-ba22-ef736cd7c399",
   "metadata": {},
   "outputs": [],
   "source": [
    "# normalized_X_test = normalizer.transform(X_test)"
   ]
  },
  {
   "cell_type": "code",
   "execution_count": 24,
   "id": "71f93e69-e70a-4173-bb89-5c49f1d174d0",
   "metadata": {},
   "outputs": [],
   "source": [
    "# np.unique(normalized_X_test)"
   ]
  },
  {
   "cell_type": "code",
   "execution_count": 25,
   "id": "e12a70e1-231f-4cce-87ab-30b57db2b3f2",
   "metadata": {},
   "outputs": [],
   "source": [
    "def estimate_soil_properties(model, normalized_X_test):\n",
    "    results = []\n",
    "    for i in tqdm(range(len(normalized_X_test))):\n",
    "        test_location = normalized_X_test[i]\n",
    "        test_location = np.expand_dims(test_location, axis =0)\n",
    "        result = model.predict(test_location)\n",
    "#         print(result)\n",
    "        results.append(int(result)-1)\n",
    "    return np.array(results)"
   ]
  },
  {
   "cell_type": "markdown",
   "id": "a7bc3117-40d0-4333-a595-3f00bbba5951",
   "metadata": {},
   "source": [
    "## **Predict test area using model train on NTB**"
   ]
  },
  {
   "cell_type": "code",
   "execution_count": 26,
   "id": "f67768ba-ac63-49ab-8e38-7d936d6dc990",
   "metadata": {},
   "outputs": [
    {
     "name": "stdout",
     "output_type": "stream",
     "text": [
      "Model: \"sequential\"\n",
      "_________________________________________________________________\n",
      "Layer (type)                 Output Shape              Param #   \n",
      "=================================================================\n",
      "dense (Dense)                (None, 128)               512       \n",
      "_________________________________________________________________\n",
      "dense_1 (Dense)              (None, 64)                8256      \n",
      "_________________________________________________________________\n",
      "dense_2 (Dense)              (None, 32)                2080      \n",
      "_________________________________________________________________\n",
      "dense_3 (Dense)              (None, 16)                528       \n",
      "_________________________________________________________________\n",
      "dense_4 (Dense)              (None, 8)                 136       \n",
      "_________________________________________________________________\n",
      "dense_5 (Dense)              (None, 1)                 9         \n",
      "=================================================================\n",
      "Total params: 11,521\n",
      "Trainable params: 11,521\n",
      "Non-trainable params: 0\n",
      "_________________________________________________________________\n",
      "/home/daitran/Desktop/git/soil_properties/checkpoints_best_only_deterministic_ntb/checkpoint\n"
     ]
    }
   ],
   "source": [
    "model = get_model_best_epoch(model = create_model(dim=3), model_type='deterministic', train_data = 'ntb')"
   ]
  },
  {
   "cell_type": "markdown",
   "id": "493a5e22-8a65-4fbf-a2d7-b178455685b3",
   "metadata": {},
   "source": [
    "### Predict cross sectional "
   ]
  },
  {
   "cell_type": "code",
   "execution_count": null,
   "id": "79dcb8f5-b8ca-4bdf-a2c0-e1ec08dd651c",
   "metadata": {},
   "outputs": [
    {
     "name": "stderr",
     "output_type": "stream",
     "text": [
      " 94%|█████████▍| 274339/290400 [1:18:39<04:48, 55.67it/s]"
     ]
    }
   ],
   "source": [
    "y_cross_sectional_predict = estimate_soil_properties(model = model, normalized_X_test = normalized_cross_sectional_point)"
   ]
  },
  {
   "cell_type": "code",
   "execution_count": null,
   "id": "e15c31c1-b234-40f6-8e31-420789fe29ff",
   "metadata": {},
   "outputs": [],
   "source": [
    "y_cross_sectional_predict[y_cross_sectional_predict < 0] = 0\n",
    "y_cross_sectional_predict[y_cross_sectional_predict > 7] = 7"
   ]
  },
  {
   "cell_type": "code",
   "execution_count": null,
   "id": "c0eb695f-a50d-44c9-87b6-27cb40b1f9f3",
   "metadata": {},
   "outputs": [],
   "source": [
    "np.unique(y_cross_sectional_predict)"
   ]
  },
  {
   "cell_type": "code",
   "execution_count": null,
   "id": "a0c96851-e20c-4ee8-9226-586eca65160c",
   "metadata": {},
   "outputs": [],
   "source": []
  },
  {
   "cell_type": "code",
   "execution_count": null,
   "id": "823678cf-d3ec-41ab-9c1e-8aa9cefe809c",
   "metadata": {},
   "outputs": [],
   "source": [
    "# y_estimate = estimate_soil_properties(model = model, test_area = normalized_X_test)"
   ]
  },
  {
   "cell_type": "code",
   "execution_count": null,
   "id": "b6414e8d-e897-49ee-8878-007b31d21449",
   "metadata": {},
   "outputs": [],
   "source": [
    "# y_estimate[y_estimate < 0] = 0\n",
    "# y_estimate[y_estimate > 7] = 7"
   ]
  },
  {
   "cell_type": "markdown",
   "id": "6dca96ee-5c92-466e-ace7-ab011d899343",
   "metadata": {},
   "source": [
    "# 3D Estimated Points Visualization"
   ]
  },
  {
   "cell_type": "code",
   "execution_count": null,
   "id": "61983c77-9825-4f42-b113-c41ac59e1fd8",
   "metadata": {},
   "outputs": [],
   "source": [
    "max_x = np.max(X_train_merged_ntb_tb[:,0])\n",
    "max_y = np.max(X_train_merged_ntb_tb[:,1])\n",
    "\n",
    "min_x = np.min(X_train_merged_ntb_tb[:,0])\n",
    "min_y = np.min(X_train_merged_ntb_tb[:,1])"
   ]
  },
  {
   "cell_type": "code",
   "execution_count": null,
   "id": "7badcc03-17ad-4922-a944-fe689a7c900b",
   "metadata": {},
   "outputs": [],
   "source": [
    "def plot_data(x, y, labels, colours):\n",
    "    \n",
    "    sns.set(style = \"darkgrid\")\n",
    "\n",
    "    fig = plt.figure(figsize=(20, 10))\n",
    "    \n",
    "    ax = fig.add_subplot(121, projection='3d')\n",
    "\n",
    "    for c in np.unique(y):\n",
    "        inx = np.where(y == c)\n",
    "        ax.scatter(x[inx, 0], x[inx, 1], x[inx, 2], label=labels[c], c=colours[c])\n",
    "        ax.set_xlabel('X')\n",
    "        ax.set_ylabel('Y')\n",
    "        ax.set_zlabel('Elevation')\n",
    "        plt.xlim([min_x, max_x])\n",
    "        plt.ylim([min_y, max_y])\n",
    "        ax.set_zlim(80, 140)\n",
    "        \n",
    "    ax = fig.add_subplot(122, projection='3d')\n",
    "    for c in np.unique(y):\n",
    "        inx = np.where(y == c)\n",
    "        ax.scatter(x[inx, 0], x[inx, 1], x[inx, 2], label=labels[c], c=colours[c])\n",
    "        ax.set_xlabel('X')\n",
    "        ax.set_ylabel('Y')\n",
    "        ax.set_zlabel('Elevation')\n",
    "        ax.view_init(90, 0)   \n",
    "        plt.xlim([min_x, max_x])\n",
    "        plt.ylim([min_y, max_y])\n",
    "        ax.set_zlim(80, 140)\n",
    "    plt.legend(loc='upper center', bbox_to_anchor=(0.5, -0.05),\n",
    "          fancybox=True, shadow=True, ncol=5)"
   ]
  },
  {
   "cell_type": "code",
   "execution_count": null,
   "id": "685e0260-5172-412a-ab2d-26d904ba324e",
   "metadata": {},
   "outputs": [],
   "source": [
    "labels = {}\n",
    "for k, v in assign_num_list.items():\n",
    "    labels[v] = k"
   ]
  },
  {
   "cell_type": "code",
   "execution_count": null,
   "id": "f842bc91-e5fe-4db4-baf6-165219f782d0",
   "metadata": {},
   "outputs": [],
   "source": [
    "label_colours = ['black', 'brown', 'red', 'magenta',\n",
    "                'pink', 'green',\n",
    "                'blue','cyan']"
   ]
  },
  {
   "cell_type": "markdown",
   "id": "91ebe9c1-eedc-431b-a9ef-3269dc362447",
   "metadata": {},
   "source": [
    "# DNN Results"
   ]
  },
  {
   "cell_type": "code",
   "execution_count": null,
   "id": "16c3f628-a39c-4d43-89cd-3ca5b1094fdc",
   "metadata": {},
   "outputs": [],
   "source": [
    "total_data = np.concatenate((full_test_area, X_train_merged_ntb_tb), axis = 0)"
   ]
  },
  {
   "cell_type": "code",
   "execution_count": null,
   "id": "e729c73b-6ee4-4dbc-bc6c-a9acbe50124a",
   "metadata": {},
   "outputs": [],
   "source": [
    "total_soil_types = np.concatenate((y_cross_sectional_predict, y_train_merged_ntb_tb), axis = 0)"
   ]
  },
  {
   "cell_type": "code",
   "execution_count": null,
   "id": "7ae09d0f-c46d-4be7-a8b7-c0114c6f7b53",
   "metadata": {},
   "outputs": [],
   "source": [
    "full_test_area.shape"
   ]
  },
  {
   "cell_type": "code",
   "execution_count": null,
   "id": "59de5241-71e7-42a8-8012-75d729bc8fa9",
   "metadata": {},
   "outputs": [],
   "source": [
    "X_train_merged_ntb_tb.shape"
   ]
  },
  {
   "cell_type": "code",
   "execution_count": null,
   "id": "5cee94fa-94c3-41a5-833d-bb511fb1d297",
   "metadata": {},
   "outputs": [],
   "source": [
    "y_cross_sectional_predict.shape"
   ]
  },
  {
   "cell_type": "code",
   "execution_count": null,
   "id": "17776d75-5c70-4af5-a182-aab16a815dc8",
   "metadata": {},
   "outputs": [],
   "source": [
    "y_train_merged_ntb_tb.shape"
   ]
  },
  {
   "cell_type": "code",
   "execution_count": null,
   "id": "59cebddc-a03d-4ced-8a79-d186c2f5f6aa",
   "metadata": {},
   "outputs": [],
   "source": [
    "plot_data(total_data, total_soil_types, labels, label_colours)\n",
    "\n",
    "plt.show()"
   ]
  },
  {
   "cell_type": "code",
   "execution_count": null,
   "id": "8da7049f-0038-46b8-a9bd-152cf913100d",
   "metadata": {},
   "outputs": [],
   "source": [
    "total_data"
   ]
  },
  {
   "cell_type": "markdown",
   "id": "e646036e-263f-4e5e-93f5-27e736d8433b",
   "metadata": {},
   "source": [
    "## Generate .csv"
   ]
  },
  {
   "cell_type": "code",
   "execution_count": null,
   "id": "aa7b0d0e-abbb-4b95-95de-9bc15e3dd2bf",
   "metadata": {},
   "outputs": [],
   "source": [
    "data_csv = pd.DataFrame({'X': total_data[:,0],\n",
    "                        'Y': total_data[:,1],\n",
    "                        'Elevation': total_data[:,2],\n",
    "                        'Target': total_soil_types})"
   ]
  },
  {
   "cell_type": "code",
   "execution_count": null,
   "id": "e6ea8205-c5d4-43f9-afe4-3c440412e9f9",
   "metadata": {},
   "outputs": [],
   "source": [
    "data_csv"
   ]
  },
  {
   "cell_type": "code",
   "execution_count": null,
   "id": "983a156f-dbb0-4992-b3da-4b0348369054",
   "metadata": {},
   "outputs": [],
   "source": [
    "data_csv.to_csv(r'/home/daitran/Desktop/git/soil_properties/output_results/export_dataframe_train_on_ntb.csv', index = False)"
   ]
  },
  {
   "cell_type": "markdown",
   "id": "d2c37595-7632-4ce8-a211-a4ca52dc8f22",
   "metadata": {},
   "source": [
    "## **Predict test area using model train on TB**"
   ]
  },
  {
   "cell_type": "code",
   "execution_count": null,
   "id": "759a6d8e-c8d9-4afe-a316-1b4b56406cd4",
   "metadata": {},
   "outputs": [],
   "source": [
    "# model = get_model_best_epoch(model = create_model(dim=3), model_type='deterministic', train_data = 'tb')"
   ]
  },
  {
   "cell_type": "code",
   "execution_count": null,
   "id": "3865f1e6-1516-44de-9b34-bc0bd956550e",
   "metadata": {},
   "outputs": [],
   "source": [
    "# y_estimate = estimate_soil_properties(model = model, test_area = normalized_X_test)"
   ]
  },
  {
   "cell_type": "code",
   "execution_count": null,
   "id": "a0f127af-8e4b-40af-a27c-3f475dd07d33",
   "metadata": {},
   "outputs": [],
   "source": [
    "# y_estimate[y_estimate < 0] = 0\n",
    "# y_estimate[y_estimate > 7] = 7"
   ]
  },
  {
   "cell_type": "code",
   "execution_count": null,
   "id": "394ef1c0-6fa2-4867-a7b2-4201639126e0",
   "metadata": {},
   "outputs": [],
   "source": [
    "# plot_data(X_test, y_estimate, labels, label_colours)\n",
    "# plt.savefig('/home/daitran/Desktop/git/soil_properties/figures/estimated_tb.png')\n",
    "# plt.show()"
   ]
  },
  {
   "cell_type": "code",
   "execution_count": null,
   "id": "96301a52-aa6d-4887-ad76-aa4fe7ef7179",
   "metadata": {},
   "outputs": [],
   "source": [
    "# data_csv = pd.DataFrame({'X': X_test[:,0],\n",
    "#                         'Y': X_test[:,1],\n",
    "#                         'Elevation': X_test[:,2],\n",
    "#                         'Target': y_estimate})"
   ]
  },
  {
   "cell_type": "code",
   "execution_count": null,
   "id": "a57f0e1b-8d44-4abf-8491-8dd4e5f20c68",
   "metadata": {},
   "outputs": [],
   "source": [
    "# data_csv"
   ]
  },
  {
   "cell_type": "code",
   "execution_count": null,
   "id": "da94dc02-4b2c-4d78-a931-72c744350db4",
   "metadata": {},
   "outputs": [],
   "source": [
    "# data_csv.to_csv(r'/home/daitran/Desktop/git/soil_properties/output_results/export_dataframe_train_on_tb.csv', index = False)"
   ]
  },
  {
   "cell_type": "markdown",
   "id": "17d7929f-ea8a-42e1-8c64-b61d8929dfb3",
   "metadata": {},
   "source": [
    "## **Predict test area using model train on merged NTB and TB**"
   ]
  },
  {
   "cell_type": "code",
   "execution_count": null,
   "id": "42df0f86-6a46-4b0d-a32b-ac62dd0485a9",
   "metadata": {},
   "outputs": [],
   "source": [
    "model = get_model_best_epoch(model = create_model(dim=3), model_type='deterministic', train_data = 'merged_ntb_tb')"
   ]
  },
  {
   "cell_type": "code",
   "execution_count": null,
   "id": "07d70cd9-8eba-4094-89e0-487ae2a184bb",
   "metadata": {},
   "outputs": [],
   "source": [
    "y_cross_sectional_predict = estimate_soil_properties(model = model, normalized_X_test = normalized_cross_sectional_point)"
   ]
  },
  {
   "cell_type": "code",
   "execution_count": null,
   "id": "33d7cfa9-5c4f-406f-89df-eb7b2139dde5",
   "metadata": {},
   "outputs": [],
   "source": [
    "y_cross_sectional_predict[y_cross_sectional_predict < 0] = 0\n",
    "y_cross_sectional_predict[y_cross_sectional_predict > 7] = 7"
   ]
  },
  {
   "cell_type": "code",
   "execution_count": null,
   "id": "606147e4-d078-45b6-bca7-3011d8ffefa1",
   "metadata": {},
   "outputs": [],
   "source": [
    "# plot_data(full_test_area, y_cross_sectional_predict, labels, label_colours)\n",
    "\n",
    "# plt.show()"
   ]
  },
  {
   "cell_type": "code",
   "execution_count": null,
   "id": "e513241a-6f7c-4443-a484-69b0efd8a1a4",
   "metadata": {},
   "outputs": [],
   "source": [
    "total_data = np.concatenate((full_test_area, X_train_merged_ntb_tb), axis = 0)\n",
    "total_soil_types = np.concatenate((y_cross_sectional_predict, y_train_merged_ntb_tb), axis = 0)\n",
    "\n",
    "\n"
   ]
  },
  {
   "cell_type": "code",
   "execution_count": null,
   "id": "0c653d56-27cb-437b-8931-8652ca0fec2e",
   "metadata": {},
   "outputs": [],
   "source": [
    "plot_data(total_data, total_soil_types, labels, label_colours)\n",
    "\n",
    "plt.show()"
   ]
  },
  {
   "cell_type": "code",
   "execution_count": null,
   "id": "d69454ae-3619-4632-901f-4a5ec5ba1c52",
   "metadata": {},
   "outputs": [],
   "source": [
    "# y_estimate = estimate_soil_properties(model = model, test_area = normalized_X_test)"
   ]
  },
  {
   "cell_type": "code",
   "execution_count": null,
   "id": "8ef6899b-5100-4385-ae10-de1e9d921c0c",
   "metadata": {},
   "outputs": [],
   "source": [
    "# y_estimate[y_estimate < 0] = 0\n",
    "# y_estimate[y_estimate > 7] = 7"
   ]
  },
  {
   "cell_type": "code",
   "execution_count": null,
   "id": "57895d2f-0c7b-4948-8410-956fe908d2a9",
   "metadata": {},
   "outputs": [],
   "source": [
    "# plot_data(X_test, y_estimate, labels, label_colours)\n",
    "# plt.savefig('/home/daitran/Desktop/git/soil_properties/figures/estimated_merged_ntb_tb.png')\n",
    "# plt.show()"
   ]
  },
  {
   "cell_type": "code",
   "execution_count": null,
   "id": "0094996b-7a9f-4b6a-af32-7ce41e87dbf1",
   "metadata": {},
   "outputs": [],
   "source": [
    "data_csv = pd.DataFrame({'X': total_data[:,0],\n",
    "                        'Y': total_data[:,1],\n",
    "                        'Elevation': total_data[:,2],\n",
    "                        'Target': total_soil_types})"
   ]
  },
  {
   "cell_type": "code",
   "execution_count": null,
   "id": "c0b7a221-d757-4765-974a-3cec8ff8d6c6",
   "metadata": {},
   "outputs": [],
   "source": [
    "data_csv"
   ]
  },
  {
   "cell_type": "code",
   "execution_count": null,
   "id": "b7b39ab4-80f3-47cb-a07e-173ca85a4241",
   "metadata": {},
   "outputs": [],
   "source": [
    "data_csv.to_csv(r'/home/daitran/Desktop/git/soil_properties/output_results/export_dataframe_train_on_merged_ntb_tb.csv', index = False)"
   ]
  },
  {
   "cell_type": "markdown",
   "id": "d623b043-d724-4deb-a503-ff2b79319683",
   "metadata": {},
   "source": [
    "# BNN Results"
   ]
  },
  {
   "cell_type": "code",
   "execution_count": null,
   "id": "e18771c1-ad49-4ebf-bd1f-99272ea4055a",
   "metadata": {},
   "outputs": [],
   "source": [
    "# model_type = 'probabilistic'"
   ]
  },
  {
   "cell_type": "code",
   "execution_count": null,
   "id": "114dbfa3-f9dd-4231-a7d5-bb0e76879831",
   "metadata": {},
   "outputs": [],
   "source": [
    "# if model_type == 'deterministic':\n",
    "#     print('===== Processing in deterministic type =====')\n",
    "#     model = get_model_best_epoch(model = create_model(dim=3), model_type='deterministic')\n",
    "# else:\n",
    "#     print('===== Processing in probabilistic type =====')\n",
    "#     model = get_model_best_epoch(model = model_prob, model_type='probabilistic')"
   ]
  },
  {
   "cell_type": "code",
   "execution_count": null,
   "id": "bc99238a-c83a-49b3-8a11-5ccbe1a3b287",
   "metadata": {},
   "outputs": [],
   "source": [
    "# y_estimate = estimate_soil_properties(model = model, test_area = normalized_X_test)"
   ]
  },
  {
   "cell_type": "code",
   "execution_count": null,
   "id": "4dfeeccc-03a2-4c5d-952e-5858890b312f",
   "metadata": {},
   "outputs": [],
   "source": [
    "# y_estimate[y_estimate < 0] = 0\n",
    "# y_estimate[y_estimate > 8] = 8"
   ]
  },
  {
   "cell_type": "code",
   "execution_count": null,
   "id": "ed52d5fd-8a40-4053-ae62-a6055d2477c5",
   "metadata": {},
   "outputs": [],
   "source": [
    "# plot_data(X_test, y_estimate, labels, label_colours)\n",
    "# plt.show()"
   ]
  }
 ],
 "metadata": {
  "kernelspec": {
   "display_name": "Python 3",
   "language": "python",
   "name": "python3"
  },
  "language_info": {
   "codemirror_mode": {
    "name": "ipython",
    "version": 3
   },
   "file_extension": ".py",
   "mimetype": "text/x-python",
   "name": "python",
   "nbconvert_exporter": "python",
   "pygments_lexer": "ipython3",
   "version": "3.7.10"
  }
 },
 "nbformat": 4,
 "nbformat_minor": 5
}
